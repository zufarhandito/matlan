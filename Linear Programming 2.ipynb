{
  "nbformat": 4,
  "nbformat_minor": 0,
  "metadata": {
    "colab": {
      "name": "soal_2_matlan_assignment_19.ipynb",
      "provenance": [],
      "collapsed_sections": []
    },
    "kernelspec": {
      "name": "python3",
      "display_name": "Python 3"
    }
  },
  "cells": [
    {
      "cell_type": "markdown",
      "metadata": {
        "id": "VT8hDIjfsZHf",
        "colab_type": "text"
      },
      "source": [
        "Nama: Zufar Abyan Handito\n",
        "\n",
        "---\n",
        "\n",
        "\n",
        "\n",
        "---\n",
        "\n",
        "\n",
        "NIM : 18523016"
      ]
    },
    {
      "cell_type": "code",
      "metadata": {
        "id": "ZCUqSKDbdHAW",
        "colab_type": "code",
        "outputId": "67fb547f-87f9-4208-ebfc-e41cb18ee402",
        "colab": {
          "base_uri": "https://localhost:8080/",
          "height": 53
        }
      },
      "source": [
        "pip install pulp"
      ],
      "execution_count": 0,
      "outputs": [
        {
          "output_type": "stream",
          "text": [
            "Requirement already satisfied: pulp in /usr/local/lib/python3.6/dist-packages (2.0)\n",
            "Requirement already satisfied: pyparsing>=2.0.1 in /usr/local/lib/python3.6/dist-packages (from pulp) (2.4.5)\n"
          ],
          "name": "stdout"
        }
      ]
    },
    {
      "cell_type": "code",
      "metadata": {
        "id": "tHMJTN5JdXrV",
        "colab_type": "code",
        "colab": {}
      },
      "source": [
        "import pulp as p"
      ],
      "execution_count": 0,
      "outputs": []
    },
    {
      "cell_type": "code",
      "metadata": {
        "id": "9wtB8uDkdaHu",
        "colab_type": "code",
        "colab": {}
      },
      "source": [
        "Lp_probmax = p.LpProblem('Problem', p.LpMaximize)"
      ],
      "execution_count": 0,
      "outputs": []
    },
    {
      "cell_type": "code",
      "metadata": {
        "id": "jCBYq1cydn_n",
        "colab_type": "code",
        "colab": {}
      },
      "source": [
        "a = p.LpVariable(\"a\", lowBound = 0)   # Create a variable x >= 0 \n",
        "b = p.LpVariable(\"b\", lowBound = 0)   # Create a variable y >= 0 "
      ],
      "execution_count": 0,
      "outputs": []
    },
    {
      "cell_type": "code",
      "metadata": {
        "id": "tp9dc-TMdfSm",
        "colab_type": "code",
        "colab": {}
      },
      "source": [
        "Lp_probmax += 8000 * a + 12000 * b "
      ],
      "execution_count": 0,
      "outputs": []
    },
    {
      "cell_type": "code",
      "metadata": {
        "id": "zldaIEpRd-gA",
        "colab_type": "code",
        "colab": {}
      },
      "source": [
        "Lp_probmax += 9 * a + 12 * b <= 180\n",
        "Lp_probmax += a + 3 * b <= 30\n",
        "Lp_probmax += a >= 0\n",
        "Lp_probmax += b >= 0"
      ],
      "execution_count": 0,
      "outputs": []
    },
    {
      "cell_type": "code",
      "metadata": {
        "id": "6v2KG36neapC",
        "colab_type": "code",
        "outputId": "d640d01c-5966-425a-fe3a-6b011b60ed8f",
        "colab": {
          "base_uri": "https://localhost:8080/",
          "height": 305
        }
      },
      "source": [
        "print(Lp_probmax) "
      ],
      "execution_count": 0,
      "outputs": [
        {
          "output_type": "stream",
          "text": [
            "Problem:\n",
            "MAXIMIZE\n",
            "8000*a + 12000*b + 0\n",
            "SUBJECT TO\n",
            "_C1: 9 a + 12 b <= 180\n",
            "\n",
            "_C2: a + 3 b <= 30\n",
            "\n",
            "_C3: a >= 0\n",
            "\n",
            "_C4: b >= 0\n",
            "\n",
            "VARIABLES\n",
            "a Continuous\n",
            "b Continuous\n",
            "\n"
          ],
          "name": "stdout"
        }
      ]
    },
    {
      "cell_type": "code",
      "metadata": {
        "id": "nZ-Fbbh5fD_N",
        "colab_type": "code",
        "outputId": "6e1b642e-5b86-4b14-f78b-c7424eb8446f",
        "colab": {
          "base_uri": "https://localhost:8080/",
          "height": 35
        }
      },
      "source": [
        "statuss = Lp_probmax.solve()   # Solver \n",
        "print(p.LpStatus[statuss])   # The solution status \n",
        "  "
      ],
      "execution_count": 0,
      "outputs": [
        {
          "output_type": "stream",
          "text": [
            "Optimal\n"
          ],
          "name": "stdout"
        }
      ]
    },
    {
      "cell_type": "code",
      "metadata": {
        "id": "GyHPSEUVfNxa",
        "colab_type": "code",
        "outputId": "e179c308-a1b8-428b-ef03-860d6283ae80",
        "colab": {
          "base_uri": "https://localhost:8080/",
          "height": 35
        }
      },
      "source": [
        "print(p.value(a), p.value(b), p.value(Lp_probmax.objective))   "
      ],
      "execution_count": 0,
      "outputs": [
        {
          "output_type": "stream",
          "text": [
            "12.0 6.0 168000.0\n"
          ],
          "name": "stdout"
        }
      ]
    }
  ]
}