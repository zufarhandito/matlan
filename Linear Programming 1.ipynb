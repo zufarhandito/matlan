{
  "nbformat": 4,
  "nbformat_minor": 0,
  "metadata": {
    "colab": {
      "name": "soal_1_matlan_assignment_19.ipynb",
      "provenance": []
    },
    "kernelspec": {
      "name": "python3",
      "display_name": "Python 3"
    }
  },
  "cells": [
    {
      "cell_type": "markdown",
      "metadata": {
        "id": "5WDJg6oWsxVJ",
        "colab_type": "text"
      },
      "source": [
        "Nama: Zufar Abyan Handito\n",
        "NIM: 18523016"
      ]
    },
    {
      "cell_type": "code",
      "metadata": {
        "id": "Y6ImBkyeY_OC",
        "colab_type": "code",
        "outputId": "2c0e666d-9afd-4a05-c17c-8f84247c3fc3",
        "colab": {
          "base_uri": "https://localhost:8080/",
          "height": 53
        }
      },
      "source": [
        "pip install pulp"
      ],
      "execution_count": 0,
      "outputs": [
        {
          "output_type": "stream",
          "text": [
            "Requirement already satisfied: pulp in /usr/local/lib/python3.6/dist-packages (2.0)\n",
            "Requirement already satisfied: pyparsing>=2.0.1 in /usr/local/lib/python3.6/dist-packages (from pulp) (2.4.5)\n"
          ],
          "name": "stdout"
        }
      ]
    },
    {
      "cell_type": "code",
      "metadata": {
        "id": "x-R_Z3BhZkMk",
        "colab_type": "code",
        "colab": {}
      },
      "source": [
        "import pulp as p"
      ],
      "execution_count": 0,
      "outputs": []
    },
    {
      "cell_type": "code",
      "metadata": {
        "id": "AKEAlGbkagCo",
        "colab_type": "code",
        "colab": {}
      },
      "source": [
        "Lp_probmin = p.LpProblem('Problem', p.LpMinimize)"
      ],
      "execution_count": 0,
      "outputs": []
    },
    {
      "cell_type": "markdown",
      "metadata": {
        "id": "BrS4hwVAg5p9",
        "colab_type": "text"
      },
      "source": [
        ""
      ]
    },
    {
      "cell_type": "code",
      "metadata": {
        "id": "NYBRS7pdamwz",
        "colab_type": "code",
        "colab": {}
      },
      "source": [
        "x = p.LpVariable(\"x\", lowBound = 0)   # Create a variable x >= 0 \n",
        "y = p.LpVariable(\"y\", lowBound = 0)   # Create a variable y >= 0 "
      ],
      "execution_count": 0,
      "outputs": []
    },
    {
      "cell_type": "code",
      "metadata": {
        "id": "zI9ovEWRasjs",
        "colab_type": "code",
        "colab": {}
      },
      "source": [
        "Lp_probmin += 3 * x + 9 * y "
      ],
      "execution_count": 0,
      "outputs": []
    },
    {
      "cell_type": "code",
      "metadata": {
        "id": "zGv7oVtlaz8D",
        "colab_type": "code",
        "colab": {}
      },
      "source": [
        "Lp_probmin +=  x + 3 * y <= 60\n",
        "Lp_probmin += x + y >= 10\n",
        "Lp_probmin += x <= y\n",
        "Lp_probmin += x >= 0\n",
        "Lp_probmin += y >= 0"
      ],
      "execution_count": 0,
      "outputs": []
    },
    {
      "cell_type": "code",
      "metadata": {
        "id": "6FXryknNbX0w",
        "colab_type": "code",
        "outputId": "a2e9d620-b498-40d9-cf62-4ee79470c410",
        "colab": {
          "base_uri": "https://localhost:8080/",
          "height": 341
        }
      },
      "source": [
        "print(Lp_probmin) "
      ],
      "execution_count": 0,
      "outputs": [
        {
          "output_type": "stream",
          "text": [
            "Problem:\n",
            "MINIMIZE\n",
            "3*x + 9*y + 0\n",
            "SUBJECT TO\n",
            "_C1: x + 3 y <= 60\n",
            "\n",
            "_C2: x + y >= 10\n",
            "\n",
            "_C3: x - y <= 0\n",
            "\n",
            "_C4: x >= 0\n",
            "\n",
            "_C5: y >= 0\n",
            "\n",
            "VARIABLES\n",
            "x Continuous\n",
            "y Continuous\n",
            "\n"
          ],
          "name": "stdout"
        }
      ]
    },
    {
      "cell_type": "code",
      "metadata": {
        "id": "BK33BIVnbbkm",
        "colab_type": "code",
        "outputId": "2bd95f75-e03d-41cf-a3b8-51093dc2e901",
        "colab": {
          "base_uri": "https://localhost:8080/",
          "height": 35
        }
      },
      "source": [
        "statuss = Lp_probmin.solve()   # Solver \n",
        "print(p.LpStatus[statuss])   # The solution status \n",
        "  "
      ],
      "execution_count": 0,
      "outputs": [
        {
          "output_type": "stream",
          "text": [
            "Optimal\n"
          ],
          "name": "stdout"
        }
      ]
    },
    {
      "cell_type": "code",
      "metadata": {
        "id": "Ugxhv-o5bggZ",
        "colab_type": "code",
        "outputId": "c1f7021c-9b49-41c4-e595-989d59c99285",
        "colab": {
          "base_uri": "https://localhost:8080/",
          "height": 35
        }
      },
      "source": [
        "print(p.value(x), p.value(y), p.value(Lp_probmin.objective))   \n"
      ],
      "execution_count": 0,
      "outputs": [
        {
          "output_type": "stream",
          "text": [
            "5.0 5.0 60.0\n"
          ],
          "name": "stdout"
        }
      ]
    },
    {
      "cell_type": "code",
      "metadata": {
        "id": "wrVpDjMsb0lA",
        "colab_type": "code",
        "colab": {}
      },
      "source": [
        "Lp_probmax = p.LpProblem('Problem', p.LpMaximize)"
      ],
      "execution_count": 0,
      "outputs": []
    },
    {
      "cell_type": "code",
      "metadata": {
        "id": "JyyRGpZgcV0s",
        "colab_type": "code",
        "colab": {}
      },
      "source": [
        "Lp_probmax += 3 * x + 9 * y "
      ],
      "execution_count": 0,
      "outputs": []
    },
    {
      "cell_type": "code",
      "metadata": {
        "id": "Uqx5oqmhcZem",
        "colab_type": "code",
        "colab": {}
      },
      "source": [
        "Lp_probmax +=  x + 3 * y <= 60\n",
        "Lp_probmax += x + y >= 10\n",
        "Lp_probmax += x <= y\n",
        "Lp_probmax += x >= 0\n",
        "Lp_probmax += y >= 0"
      ],
      "execution_count": 0,
      "outputs": []
    },
    {
      "cell_type": "code",
      "metadata": {
        "id": "3LkAuMVMcM7d",
        "colab_type": "code",
        "outputId": "432ee7a7-bb60-41ac-a219-0e1ec181c15a",
        "colab": {
          "base_uri": "https://localhost:8080/",
          "height": 341
        }
      },
      "source": [
        "print(Lp_probmax) "
      ],
      "execution_count": 0,
      "outputs": [
        {
          "output_type": "stream",
          "text": [
            "Problem:\n",
            "MAXIMIZE\n",
            "3*x + 9*y + 0\n",
            "SUBJECT TO\n",
            "_C1: x + 3 y <= 60\n",
            "\n",
            "_C2: x + y >= 10\n",
            "\n",
            "_C3: x - y <= 0\n",
            "\n",
            "_C4: x >= 0\n",
            "\n",
            "_C5: y >= 0\n",
            "\n",
            "VARIABLES\n",
            "x Continuous\n",
            "y Continuous\n",
            "\n"
          ],
          "name": "stdout"
        }
      ]
    },
    {
      "cell_type": "code",
      "metadata": {
        "id": "t_e76gA-ciz4",
        "colab_type": "code",
        "outputId": "5a81ca8a-fe38-497a-8822-f28fd96043d8",
        "colab": {
          "base_uri": "https://localhost:8080/",
          "height": 35
        }
      },
      "source": [
        "status = Lp_probmax.solve()   # Solver \n",
        "print(p.LpStatus[status])   # The solution status \n",
        "  "
      ],
      "execution_count": 0,
      "outputs": [
        {
          "output_type": "stream",
          "text": [
            "Optimal\n"
          ],
          "name": "stdout"
        }
      ]
    },
    {
      "cell_type": "code",
      "metadata": {
        "id": "GrO8N1DOcnUQ",
        "colab_type": "code",
        "outputId": "015fa92f-27ea-482b-813c-c165c57a45a5",
        "colab": {
          "base_uri": "https://localhost:8080/",
          "height": 35
        }
      },
      "source": [
        "print(p.value(x), p.value(y), p.value(Lp_probmax.objective))   "
      ],
      "execution_count": 0,
      "outputs": [
        {
          "output_type": "stream",
          "text": [
            "0.0 20.0 180.0\n"
          ],
          "name": "stdout"
        }
      ]
    }
  ]
}